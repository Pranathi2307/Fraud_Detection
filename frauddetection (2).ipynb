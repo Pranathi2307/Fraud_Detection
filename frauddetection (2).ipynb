{
 "cells": [
  {
   "cell_type": "code",
   "execution_count": 95,
   "id": "4036de7e",
   "metadata": {},
   "outputs": [],
   "source": [
    "import pandas as pd\n",
    "import numpy as np\n",
    "import matplotlib.pyplot as plt\n",
    "import seaborn as sns"
   ]
  },
  {
   "cell_type": "code",
   "execution_count": 96,
   "id": "180de54f",
   "metadata": {},
   "outputs": [],
   "source": [
    "df=pd.read_csv(\"credit_card_fraud_dataset (1).csv\")"
   ]
  },
  {
   "cell_type": "code",
   "execution_count": 97,
   "id": "c673ed24",
   "metadata": {},
   "outputs": [
    {
     "data": {
      "text/html": [
       "<div>\n",
       "<style scoped>\n",
       "    .dataframe tbody tr th:only-of-type {\n",
       "        vertical-align: middle;\n",
       "    }\n",
       "\n",
       "    .dataframe tbody tr th {\n",
       "        vertical-align: top;\n",
       "    }\n",
       "\n",
       "    .dataframe thead th {\n",
       "        text-align: right;\n",
       "    }\n",
       "</style>\n",
       "<table border=\"1\" class=\"dataframe\">\n",
       "  <thead>\n",
       "    <tr style=\"text-align: right;\">\n",
       "      <th></th>\n",
       "      <th>TransactionID</th>\n",
       "      <th>TransactionDate</th>\n",
       "      <th>Amount</th>\n",
       "      <th>MerchantID</th>\n",
       "      <th>TransactionType</th>\n",
       "      <th>Location</th>\n",
       "      <th>IsFraud</th>\n",
       "    </tr>\n",
       "  </thead>\n",
       "  <tbody>\n",
       "    <tr>\n",
       "      <th>0</th>\n",
       "      <td>1</td>\n",
       "      <td>2024-04-03 14:15:35.462794</td>\n",
       "      <td>4189.27</td>\n",
       "      <td>688</td>\n",
       "      <td>refund</td>\n",
       "      <td>San Antonio</td>\n",
       "      <td>0</td>\n",
       "    </tr>\n",
       "    <tr>\n",
       "      <th>1</th>\n",
       "      <td>2</td>\n",
       "      <td>2024-03-19 13:20:35.462824</td>\n",
       "      <td>2659.71</td>\n",
       "      <td>109</td>\n",
       "      <td>refund</td>\n",
       "      <td>Dallas</td>\n",
       "      <td>0</td>\n",
       "    </tr>\n",
       "    <tr>\n",
       "      <th>2</th>\n",
       "      <td>3</td>\n",
       "      <td>2024-01-08 10:08:35.462834</td>\n",
       "      <td>784.00</td>\n",
       "      <td>394</td>\n",
       "      <td>purchase</td>\n",
       "      <td>New York</td>\n",
       "      <td>0</td>\n",
       "    </tr>\n",
       "    <tr>\n",
       "      <th>3</th>\n",
       "      <td>4</td>\n",
       "      <td>2024-04-13 23:50:35.462850</td>\n",
       "      <td>3514.40</td>\n",
       "      <td>944</td>\n",
       "      <td>purchase</td>\n",
       "      <td>Philadelphia</td>\n",
       "      <td>0</td>\n",
       "    </tr>\n",
       "    <tr>\n",
       "      <th>4</th>\n",
       "      <td>5</td>\n",
       "      <td>2024-07-12 18:51:35.462858</td>\n",
       "      <td>369.07</td>\n",
       "      <td>475</td>\n",
       "      <td>purchase</td>\n",
       "      <td>Phoenix</td>\n",
       "      <td>0</td>\n",
       "    </tr>\n",
       "  </tbody>\n",
       "</table>\n",
       "</div>"
      ],
      "text/plain": [
       "   TransactionID             TransactionDate   Amount  MerchantID  \\\n",
       "0              1  2024-04-03 14:15:35.462794  4189.27         688   \n",
       "1              2  2024-03-19 13:20:35.462824  2659.71         109   \n",
       "2              3  2024-01-08 10:08:35.462834   784.00         394   \n",
       "3              4  2024-04-13 23:50:35.462850  3514.40         944   \n",
       "4              5  2024-07-12 18:51:35.462858   369.07         475   \n",
       "\n",
       "  TransactionType      Location  IsFraud  \n",
       "0          refund   San Antonio        0  \n",
       "1          refund        Dallas        0  \n",
       "2        purchase      New York        0  \n",
       "3        purchase  Philadelphia        0  \n",
       "4        purchase       Phoenix        0  "
      ]
     },
     "execution_count": 97,
     "metadata": {},
     "output_type": "execute_result"
    }
   ],
   "source": [
    "df.head(5)"
   ]
  },
  {
   "cell_type": "code",
   "execution_count": 98,
   "id": "c4690092",
   "metadata": {},
   "outputs": [
    {
     "data": {
      "text/plain": [
       "Index(['TransactionID', 'TransactionDate', 'Amount', 'MerchantID',\n",
       "       'TransactionType', 'Location', 'IsFraud'],\n",
       "      dtype='object')"
      ]
     },
     "execution_count": 98,
     "metadata": {},
     "output_type": "execute_result"
    }
   ],
   "source": [
    "df.columns"
   ]
  },
  {
   "cell_type": "code",
   "execution_count": 99,
   "id": "0ecce346",
   "metadata": {
    "scrolled": true
   },
   "outputs": [
    {
     "name": "stdout",
     "output_type": "stream",
     "text": [
      "<class 'pandas.core.frame.DataFrame'>\n",
      "RangeIndex: 100000 entries, 0 to 99999\n",
      "Data columns (total 7 columns):\n",
      " #   Column           Non-Null Count   Dtype  \n",
      "---  ------           --------------   -----  \n",
      " 0   TransactionID    100000 non-null  int64  \n",
      " 1   TransactionDate  100000 non-null  object \n",
      " 2   Amount           100000 non-null  float64\n",
      " 3   MerchantID       100000 non-null  int64  \n",
      " 4   TransactionType  100000 non-null  object \n",
      " 5   Location         100000 non-null  object \n",
      " 6   IsFraud          100000 non-null  int64  \n",
      "dtypes: float64(1), int64(3), object(3)\n",
      "memory usage: 5.3+ MB\n"
     ]
    }
   ],
   "source": [
    "df.info()"
   ]
  },
  {
   "cell_type": "code",
   "execution_count": 100,
   "id": "57ba1c03",
   "metadata": {},
   "outputs": [
    {
     "data": {
      "text/plain": [
       "TransactionID      0\n",
       "TransactionDate    0\n",
       "Amount             0\n",
       "MerchantID         0\n",
       "TransactionType    0\n",
       "Location           0\n",
       "IsFraud            0\n",
       "dtype: int64"
      ]
     },
     "execution_count": 100,
     "metadata": {},
     "output_type": "execute_result"
    }
   ],
   "source": [
    "df.isnull().sum()"
   ]
  },
  {
   "cell_type": "code",
   "execution_count": 101,
   "id": "1e45c22e",
   "metadata": {
    "scrolled": false
   },
   "outputs": [
    {
     "data": {
      "text/html": [
       "<div>\n",
       "<style scoped>\n",
       "    .dataframe tbody tr th:only-of-type {\n",
       "        vertical-align: middle;\n",
       "    }\n",
       "\n",
       "    .dataframe tbody tr th {\n",
       "        vertical-align: top;\n",
       "    }\n",
       "\n",
       "    .dataframe thead th {\n",
       "        text-align: right;\n",
       "    }\n",
       "</style>\n",
       "<table border=\"1\" class=\"dataframe\">\n",
       "  <thead>\n",
       "    <tr style=\"text-align: right;\">\n",
       "      <th></th>\n",
       "      <th>TransactionID</th>\n",
       "      <th>Amount</th>\n",
       "      <th>MerchantID</th>\n",
       "      <th>IsFraud</th>\n",
       "    </tr>\n",
       "  </thead>\n",
       "  <tbody>\n",
       "    <tr>\n",
       "      <th>count</th>\n",
       "      <td>100000.000000</td>\n",
       "      <td>100000.000000</td>\n",
       "      <td>100000.000000</td>\n",
       "      <td>100000.000000</td>\n",
       "    </tr>\n",
       "    <tr>\n",
       "      <th>mean</th>\n",
       "      <td>50000.500000</td>\n",
       "      <td>2497.092666</td>\n",
       "      <td>501.676070</td>\n",
       "      <td>0.010000</td>\n",
       "    </tr>\n",
       "    <tr>\n",
       "      <th>std</th>\n",
       "      <td>28867.657797</td>\n",
       "      <td>1442.415999</td>\n",
       "      <td>288.715868</td>\n",
       "      <td>0.099499</td>\n",
       "    </tr>\n",
       "    <tr>\n",
       "      <th>min</th>\n",
       "      <td>1.000000</td>\n",
       "      <td>1.050000</td>\n",
       "      <td>1.000000</td>\n",
       "      <td>0.000000</td>\n",
       "    </tr>\n",
       "    <tr>\n",
       "      <th>25%</th>\n",
       "      <td>25000.750000</td>\n",
       "      <td>1247.955000</td>\n",
       "      <td>252.000000</td>\n",
       "      <td>0.000000</td>\n",
       "    </tr>\n",
       "    <tr>\n",
       "      <th>50%</th>\n",
       "      <td>50000.500000</td>\n",
       "      <td>2496.500000</td>\n",
       "      <td>503.000000</td>\n",
       "      <td>0.000000</td>\n",
       "    </tr>\n",
       "    <tr>\n",
       "      <th>75%</th>\n",
       "      <td>75000.250000</td>\n",
       "      <td>3743.592500</td>\n",
       "      <td>753.000000</td>\n",
       "      <td>0.000000</td>\n",
       "    </tr>\n",
       "    <tr>\n",
       "      <th>max</th>\n",
       "      <td>100000.000000</td>\n",
       "      <td>4999.770000</td>\n",
       "      <td>1000.000000</td>\n",
       "      <td>1.000000</td>\n",
       "    </tr>\n",
       "  </tbody>\n",
       "</table>\n",
       "</div>"
      ],
      "text/plain": [
       "       TransactionID         Amount     MerchantID        IsFraud\n",
       "count  100000.000000  100000.000000  100000.000000  100000.000000\n",
       "mean    50000.500000    2497.092666     501.676070       0.010000\n",
       "std     28867.657797    1442.415999     288.715868       0.099499\n",
       "min         1.000000       1.050000       1.000000       0.000000\n",
       "25%     25000.750000    1247.955000     252.000000       0.000000\n",
       "50%     50000.500000    2496.500000     503.000000       0.000000\n",
       "75%     75000.250000    3743.592500     753.000000       0.000000\n",
       "max    100000.000000    4999.770000    1000.000000       1.000000"
      ]
     },
     "execution_count": 101,
     "metadata": {},
     "output_type": "execute_result"
    }
   ],
   "source": [
    "df.describe()"
   ]
  },
  {
   "cell_type": "code",
   "execution_count": 102,
   "id": "eb4f3a5e",
   "metadata": {},
   "outputs": [],
   "source": [
    "df.columns=df.columns.str.strip()"
   ]
  },
  {
   "cell_type": "code",
   "execution_count": 103,
   "id": "33989a3c",
   "metadata": {},
   "outputs": [],
   "source": [
    "df.drop(columns=[\"TransactionID\"],inplace=True)"
   ]
  },
  {
   "cell_type": "code",
   "execution_count": 104,
   "id": "9f721860",
   "metadata": {},
   "outputs": [
    {
     "data": {
      "text/plain": [
       "Index(['TransactionDate', 'Amount', 'MerchantID', 'TransactionType',\n",
       "       'Location', 'IsFraud'],\n",
       "      dtype='object')"
      ]
     },
     "execution_count": 104,
     "metadata": {},
     "output_type": "execute_result"
    }
   ],
   "source": [
    "df.columns"
   ]
  },
  {
   "cell_type": "code",
   "execution_count": 105,
   "id": "f9a4563b",
   "metadata": {},
   "outputs": [
    {
     "data": {
      "text/plain": [
       "MerchantID\n",
       "461    149\n",
       "188    134\n",
       "192    129\n",
       "517    128\n",
       "820    126\n",
       "      ... \n",
       "119     75\n",
       "936     74\n",
       "968     73\n",
       "635     71\n",
       "512     69\n",
       "Name: count, Length: 1000, dtype: int64"
      ]
     },
     "execution_count": 105,
     "metadata": {},
     "output_type": "execute_result"
    }
   ],
   "source": [
    "df['MerchantID'].value_counts()"
   ]
  },
  {
   "cell_type": "code",
   "execution_count": 106,
   "id": "7d4d126c",
   "metadata": {},
   "outputs": [
    {
     "data": {
      "text/plain": [
       "IsFraud\n",
       "0    99000\n",
       "1     1000\n",
       "Name: count, dtype: int64"
      ]
     },
     "execution_count": 106,
     "metadata": {},
     "output_type": "execute_result"
    }
   ],
   "source": [
    "df[\"IsFraud\"].value_counts() "
   ]
  },
  {
   "cell_type": "code",
   "execution_count": 107,
   "id": "d27b8e35",
   "metadata": {},
   "outputs": [],
   "source": [
    "\n",
    "from imblearn.combine import SMOTETomek\n",
    "import numpy as np\n",
    "\n",
    "df_encoded = df.copy()\n",
    "df_encoded = pd.get_dummies(df, columns=[\"TransactionType\", \"Location\"])\n",
    "\n",
    "X = df_encoded.drop(columns=[\"IsFraud\", \"TransactionDate\"]) \n",
    "y = df_encoded[\"IsFraud\"]\n",
    "\n",
    "st = SMOTETomek(random_state=42)\n",
    "X_resample, y_resample = st.fit_resample(X, y)\n",
    "\n",
    "bal_df = pd.concat([pd.DataFrame(X_resample, columns=X.columns), pd.DataFrame(y_resample, columns=[\"IsFraud\"])], axis=1)"
   ]
  },
  {
   "cell_type": "code",
   "execution_count": 108,
   "id": "4d3be361",
   "metadata": {},
   "outputs": [
    {
     "data": {
      "text/plain": [
       "Index(['TransactionDate', 'Amount', 'MerchantID', 'IsFraud',\n",
       "       'TransactionType_purchase', 'TransactionType_refund',\n",
       "       'Location_Chicago', 'Location_Dallas', 'Location_Houston',\n",
       "       'Location_Los Angeles', 'Location_New York', 'Location_Philadelphia',\n",
       "       'Location_Phoenix', 'Location_San Antonio', 'Location_San Diego',\n",
       "       'Location_San Jose'],\n",
       "      dtype='object')"
      ]
     },
     "execution_count": 108,
     "metadata": {},
     "output_type": "execute_result"
    }
   ],
   "source": [
    "df_encoded.columns"
   ]
  },
  {
   "cell_type": "code",
   "execution_count": 109,
   "id": "6154efdd",
   "metadata": {},
   "outputs": [
    {
     "data": {
      "text/plain": [
       "IsFraud\n",
       "0    95518\n",
       "1    95518\n",
       "Name: count, dtype: int64"
      ]
     },
     "execution_count": 109,
     "metadata": {},
     "output_type": "execute_result"
    }
   ],
   "source": [
    "bal_df[\"IsFraud\"].value_counts()"
   ]
  },
  {
   "cell_type": "code",
   "execution_count": 110,
   "id": "3a07f9f9",
   "metadata": {},
   "outputs": [
    {
     "name": "stderr",
     "output_type": "stream",
     "text": [
      "/tmp/ipykernel_22093/1019146672.py:1: FutureWarning: \n",
      "\n",
      "Passing `palette` without assigning `hue` is deprecated and will be removed in v0.14.0. Assign the `x` variable to `hue` and set `legend=False` for the same effect.\n",
      "\n",
      "  sns.countplot(x=bal_df[\"IsFraud\"], palette=[\"blue\", \"red\"])\n"
     ]
    },
    {
     "data": {
      "image/png": "[encoded data removed]",
      "text/plain": [
       "<Figure size 640x480 with 1 Axes>"
      ]
     },
     "metadata": {},
     "output_type": "display_data"
    }
   ],
   "source": [
    "sns.countplot(x=bal_df[\"IsFraud\"], palette=[\"blue\", \"red\"])\n",
    "plt.title(\"Fraud vs Non-Fraud Transactions\")\n",
    "plt.xlabel(\"Is Fraud (0: Non-Fraud, 1: Fraud)\")\n",
    "plt.ylabel(\"Count\")\n",
    "plt.show()"
   ]
  },
  {
   "cell_type": "code",
   "execution_count": 111,
   "id": "3a478397",
   "metadata": {},
   "outputs": [
    {
     "name": "stdout",
     "output_type": "stream",
     "text": [
      "(152828, 14) (38208, 14)\n"
     ]
    }
   ],
   "source": [
    "from sklearn.model_selection import train_test_split\n",
    "X_train, X_test, y_train, y_test = train_test_split(X_resample, y_resample, test_size=0.2, random_state=42)\n",
    "print(X_train.shape,X_test.shape)"
   ]
  },
  {
   "cell_type": "code",
   "execution_count": 112,
   "id": "9197216c",
   "metadata": {},
   "outputs": [
    {
     "data": {
      "text/plain": [
       "Index(['Amount', 'MerchantID', 'TransactionType_purchase',\n",
       "       'TransactionType_refund', 'Location_Chicago', 'Location_Dallas',\n",
       "       'Location_Houston', 'Location_Los Angeles', 'Location_New York',\n",
       "       'Location_Philadelphia', 'Location_Phoenix', 'Location_San Antonio',\n",
       "       'Location_San Diego', 'Location_San Jose'],\n",
       "      dtype='object')"
      ]
     },
     "execution_count": 112,
     "metadata": {},
     "output_type": "execute_result"
    }
   ],
   "source": [
    "X_train.columns"
   ]
  },
  {
   "cell_type": "code",
   "execution_count": 113,
   "id": "33da9364",
   "metadata": {},
   "outputs": [],
   "source": [
    "from sklearn.linear_model import LogisticRegression\n",
    "lg=LogisticRegression(random_state=42,max_iter=1000)\n",
    "lg.fit(X_train,y_train)\n",
    "y_pred=lg.predict(X_test)"
   ]
  },
  {
   "cell_type": "code",
   "execution_count": 114,
   "id": "4129a9c1",
   "metadata": {},
   "outputs": [
    {
     "data": {
      "text/plain": [
       "Index(['Amount', 'MerchantID', 'TransactionType_purchase',\n",
       "       'TransactionType_refund', 'Location_Chicago', 'Location_Dallas',\n",
       "       'Location_Houston', 'Location_Los Angeles', 'Location_New York',\n",
       "       'Location_Philadelphia', 'Location_Phoenix', 'Location_San Antonio',\n",
       "       'Location_San Diego', 'Location_San Jose'],\n",
       "      dtype='object')"
      ]
     },
     "execution_count": 114,
     "metadata": {},
     "output_type": "execute_result"
    }
   ],
   "source": [
    "X_train.columns"
   ]
  },
  {
   "cell_type": "code",
   "execution_count": 115,
   "id": "ad433fa6",
   "metadata": {},
   "outputs": [
    {
     "name": "stdout",
     "output_type": "stream",
     "text": [
      "              precision    recall  f1-score   support\n",
      "\n",
      "           0       0.94      1.00      0.97     19083\n",
      "           1       1.00      0.93      0.97     19125\n",
      "\n",
      "    accuracy                           0.97     38208\n",
      "   macro avg       0.97      0.97      0.97     38208\n",
      "weighted avg       0.97      0.97      0.97     38208\n",
      "\n"
     ]
    }
   ],
   "source": [
    "from sklearn.metrics import classification_report, confusion_matrix, roc_auc_score\n",
    "print(classification_report(y_test, y_pred))"
   ]
  },
  {
   "cell_type": "code",
   "execution_count": 116,
   "id": "c34534b1",
   "metadata": {},
   "outputs": [
    {
     "data": {
      "text/plain": [
       "0.967283761024261"
      ]
     },
     "execution_count": 116,
     "metadata": {},
     "output_type": "execute_result"
    }
   ],
   "source": [
    "from sklearn.model_selection import cross_val_score\n",
    "cross_val_score(lg, X_resample, y_resample, cv=5).mean()\n"
   ]
  },
  {
   "cell_type": "code",
   "execution_count": 117,
   "id": "bf35396f",
   "metadata": {},
   "outputs": [],
   "source": [
    "lrg = LogisticRegression(C=0.5, class_weight='balanced', max_iter=2000, solver='liblinear',random_state=42)\n",
    "lrg.fit(X_train,y_train)\n",
    "y_pred=lrg.predict(X_test)"
   ]
  },
  {
   "cell_type": "code",
   "execution_count": 118,
   "id": "6dbcf5fd",
   "metadata": {},
   "outputs": [
    {
     "name": "stdout",
     "output_type": "stream",
     "text": [
      "              precision    recall  f1-score   support\n",
      "\n",
      "           0       0.94      1.00      0.97     19083\n",
      "           1       1.00      0.93      0.97     19125\n",
      "\n",
      "    accuracy                           0.97     38208\n",
      "   macro avg       0.97      0.97      0.97     38208\n",
      "weighted avg       0.97      0.97      0.97     38208\n",
      "\n"
     ]
    }
   ],
   "source": [
    "from sklearn.metrics import classification_report, confusion_matrix, roc_auc_score\n",
    "print(classification_report(y_test, y_pred))"
   ]
  },
  {
   "cell_type": "code",
   "execution_count": 119,
   "id": "d6457159",
   "metadata": {},
   "outputs": [
    {
     "name": "stdout",
     "output_type": "stream",
     "text": [
      "Training columns: ['Amount', 'MerchantID', 'TransactionType_purchase', 'TransactionType_refund', 'Location_Chicago', 'Location_Dallas', 'Location_Houston', 'Location_Los Angeles', 'Location_New York', 'Location_Philadelphia', 'Location_Phoenix', 'Location_San Antonio', 'Location_San Diego', 'Location_San Jose']\n"
     ]
    }
   ],
   "source": [
    "print(\"Training columns:\", X_train.columns.tolist())\n"
   ]
  },
  {
   "cell_type": "code",
   "execution_count": 120,
   "id": "cf41defa",
   "metadata": {},
   "outputs": [],
   "source": [
    "from sklearn.ensemble import RandomForestClassifier\n",
    "rf=RandomForestClassifier(n_estimators=100,max_depth=10,min_samples_split=5, min_samples_leaf=2,random_state=42, class_weight=\"balanced\")\n",
    "rf.fit(X_train,y_train)\n",
    "y_pred=rf.predict(X_test)"
   ]
  },
  {
   "cell_type": "code",
   "execution_count": 121,
   "id": "f9b81f85",
   "metadata": {},
   "outputs": [
    {
     "name": "stdout",
     "output_type": "stream",
     "text": [
      "Training columns: ['Amount', 'MerchantID', 'TransactionType_purchase', 'TransactionType_refund', 'Location_Chicago', 'Location_Dallas', 'Location_Houston', 'Location_Los Angeles', 'Location_New York', 'Location_Philadelphia', 'Location_Phoenix', 'Location_San Antonio', 'Location_San Diego', 'Location_San Jose']\n"
     ]
    }
   ],
   "source": [
    "print(\"Training columns:\", X_train.columns.tolist())\n"
   ]
  },
  {
   "cell_type": "code",
   "execution_count": 122,
   "id": "c8ad5528",
   "metadata": {},
   "outputs": [
    {
     "name": "stdout",
     "output_type": "stream",
     "text": [
      "Training Set Metrics:\n",
      "              precision    recall  f1-score   support\n",
      "\n",
      "           0       0.94      1.00      0.97     76435\n",
      "           1       1.00      0.93      0.97     76393\n",
      "\n",
      "    accuracy                           0.97    152828\n",
      "   macro avg       0.97      0.97      0.97    152828\n",
      "weighted avg       0.97      0.97      0.97    152828\n",
      "\n"
     ]
    }
   ],
   "source": [
    "y_train_pred = rf.predict(X_train)\n",
    "print(\"Training Set Metrics:\")\n",
    "print(classification_report(y_train, y_train_pred))"
   ]
  },
  {
   "cell_type": "code",
   "execution_count": 123,
   "id": "1e36f8ab",
   "metadata": {},
   "outputs": [
    {
     "name": "stdout",
     "output_type": "stream",
     "text": [
      "              precision    recall  f1-score   support\n",
      "\n",
      "           0       0.94      1.00      0.97     19083\n",
      "           1       1.00      0.93      0.96     19125\n",
      "\n",
      "    accuracy                           0.97     38208\n",
      "   macro avg       0.97      0.97      0.97     38208\n",
      "weighted avg       0.97      0.97      0.97     38208\n",
      "\n"
     ]
    }
   ],
   "source": [
    "print(classification_report(y_test, y_pred))"
   ]
  },
  {
   "cell_type": "code",
   "execution_count": 124,
   "id": "774ba65d",
   "metadata": {},
   "outputs": [],
   "source": [
    "# import xgboost as xgb\n",
    "# import numpy as np\n",
    "# from sklearn.metrics import classification_report\n",
    "# xgb = xgb.XGBClassifier(n_estimators=100, learning_rate=0.05, max_depth=6, random_state=42, use_label_encoder=False, eval_metric='logloss')\n",
    "# xgb.fit(X_train, y_train)\n",
    "# y_pred_xgb = xgb.predict(X_test)\n",
    "# print(classification_report(y_test, y_pred_xgb))\n"
   ]
  },
  {
   "cell_type": "code",
   "execution_count": 125,
   "id": "8a9e6d28",
   "metadata": {},
   "outputs": [],
   "source": [
    "# so RandomForest is Best"
   ]
  },
  {
   "cell_type": "code",
   "execution_count": 127,
   "id": "a352d836",
   "metadata": {},
   "outputs": [],
   "source": [
    "from sklearn.model_selection import cross_val_score\n",
    "cv_scores = cross_val_score(rf, X_train, y_train, cv=5, scoring='f1')"
   ]
  },
  {
   "cell_type": "code",
   "execution_count": 128,
   "id": "c6d93cbd",
   "metadata": {},
   "outputs": [
    {
     "data": {
      "text/plain": [
       "array([0.99316913, 0.99379331, 0.9932745 , 0.99230769, 0.99277836])"
      ]
     },
     "execution_count": 128,
     "metadata": {},
     "output_type": "execute_result"
    }
   ],
   "source": [
    "cv_scores"
   ]
  },
  {
   "cell_type": "code",
   "execution_count": 129,
   "id": "d9a31cf7",
   "metadata": {},
   "outputs": [
    {
     "name": "stdout",
     "output_type": "stream",
     "text": [
      "0.9930645979043561\n",
      "0.000498164655641016\n"
     ]
    }
   ],
   "source": [
    "print(cv_scores.mean())\n",
    "print(cv_scores.std())"
   ]
  },
  {
   "cell_type": "code",
   "execution_count": 130,
   "id": "5852565a",
   "metadata": {},
   "outputs": [
    {
     "name": "stdout",
     "output_type": "stream",
     "text": [
      "RandomForestClassifier(class_weight='balanced', random_state=42)\n",
      "<class 'sklearn.ensemble._forest.RandomForestClassifier'>\n"
     ]
    }
   ],
   "source": [
    "print(rf)\n",
    "print(type(rf))"
   ]
  },
  {
   "cell_type": "code",
   "execution_count": 131,
   "id": "c9ecd374",
   "metadata": {},
   "outputs": [],
   "source": [
    "import pickle\n",
    "\n",
    "# Save the trained model\n",
    "with open('fraud_model.pkl', 'wb') as file:\n",
    "    pickle.dump(rf, file)\n"
   ]
  },
  {
   "cell_type": "code",
   "execution_count": 132,
   "id": "e2d34288",
   "metadata": {},
   "outputs": [
    {
     "data": {
      "text/plain": [
       "Index(['Amount', 'MerchantID', 'TransactionType_purchase',\n",
       "       'TransactionType_refund', 'Location_Chicago', 'Location_Dallas',\n",
       "       'Location_Houston', 'Location_Los Angeles', 'Location_New York',\n",
       "       'Location_Philadelphia', 'Location_Phoenix', 'Location_San Antonio',\n",
       "       'Location_San Diego', 'Location_San Jose'],\n",
       "      dtype='object')"
      ]
     },
     "execution_count": 132,
     "metadata": {},
     "output_type": "execute_result"
    }
   ],
   "source": [
    "X_train.columns"
   ]
  },
  {
   "cell_type": "code",
   "execution_count": null,
   "id": "6c86e47a",
   "metadata": {},
   "outputs": [],
   "source": [
    "\n"
   ]
  },
  {
   "cell_type": "code",
   "execution_count": 33,
   "id": "40d470e8",
   "metadata": {},
   "outputs": [
    {
     "name": "stdout",
     "output_type": "stream",
     "text": [
      "RandomForestClassifier(class_weight='balanced', random_state=42)\n"
     ]
    }
   ],
   "source": []
  },
  {
   "cell_type": "code",
   "execution_count": 34,
   "id": "04bdfa72",
   "metadata": {},
   "outputs": [
    {
     "name": "stdout",
     "output_type": "stream",
     "text": [
      "1.3.2\n"
     ]
    }
   ],
   "source": []
  },
  {
   "cell_type": "code",
   "execution_count": 37,
   "id": "28ec9216",
   "metadata": {},
   "outputs": [
    {
     "data": {
      "text/plain": [
       "array(['San Antonio', 'Dallas', 'New York', 'Philadelphia', 'Phoenix',\n",
       "       'Chicago', 'San Jose', 'San Diego', 'Houston', 'Los Angeles'],\n",
       "      dtype=object)"
      ]
     },
     "execution_count": 37,
     "metadata": {},
     "output_type": "execute_result"
    }
   ],
   "source": []
  },
  {
   "cell_type": "code",
   "execution_count": 36,
   "id": "493dbd0a",
   "metadata": {},
   "outputs": [
    {
     "name": "stdout",
     "output_type": "stream",
     "text": [
      "Model was trained with 5 features\n"
     ]
    }
   ],
   "source": []
  },
  {
   "cell_type": "code",
   "execution_count": 35,
   "id": "6bc363c3",
   "metadata": {},
   "outputs": [
    {
     "name": "stdout",
     "output_type": "stream",
     "text": [
      "['Amount', 'MerchantID', 'TransactionType_purchase', 'TransactionType_refund', 'Location_Chicago', 'Location_Dallas', 'Location_Houston', 'Location_Los Angeles', 'Location_New York', 'Location_Philadelphia', 'Location_Phoenix', 'Location_San Antonio', 'Location_San Diego', 'Location_San Jose']\n"
     ]
    }
   ],
   "source": []
  },
  {
   "cell_type": "code",
   "execution_count": 38,
   "id": "1cd53d2d",
   "metadata": {},
   "outputs": [],
   "source": [
    "\n"
   ]
  },
  {
   "cell_type": "code",
   "execution_count": null,
   "id": "10a9006e",
   "metadata": {},
   "outputs": [],
   "source": []
  },
  {
   "cell_type": "code",
   "execution_count": null,
   "id": "e9a1acd3",
   "metadata": {},
   "outputs": [],
   "source": []
  }
 ],
 "metadata": {
  "kernelspec": {
   "display_name": "Python 3 (ipykernel)",
   "language": "python",
   "name": "python3"
  },
  "language_info": {
   "codemirror_mode": {
    "name": "ipython",
    "version": 3
   },
   "file_extension": ".py",
   "mimetype": "text/x-python",
   "name": "python",
   "nbconvert_exporter": "python",
   "pygments_lexer": "ipython3",
   "version": "3.8.10"
  }
 },
 "nbformat": 4,
 "nbformat_minor": 5
}
